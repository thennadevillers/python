{
 "cells": [
  {
   "cell_type": "code",
   "execution_count": 11,
   "metadata": {},
   "outputs": [],
   "source": [
    "d={}\n",
    "d={'a':\"apple\",'b':2}\n",
    "d=dict()"
   ]
  },
  {
   "cell_type": "code",
   "execution_count": 12,
   "metadata": {},
   "outputs": [
    {
     "name": "stdout",
     "output_type": "stream",
     "text": [
      "{'a': 'apple', 'b': 2, 'c': 10.5}\n"
     ]
    }
   ],
   "source": [
    "d={'a':\"apple\",'b':2}\n",
    "d['c']=10.5\n",
    "print(d) \n"
   ]
  },
  {
   "cell_type": "code",
   "execution_count": null,
   "metadata": {},
   "outputs": [],
   "source": [
    "\n",
    "d=dict()\n",
    "d['a']=\"apple\"# apple the element at end of dict.\n",
    "d[10]=\"android\"\n",
    "d['c']=\"cherry\"\n",
    "print(d)\n",
    "d1={'e':\"element\"}\n",
    "d.update(d1)\n",
    "print(d)\n",
    "d1={'e':\"element\"}\n",
    "d.update(d1)#adding the dict at end od dict.\n",
    "print(d)\n",
    "print(d.item())#it returns the key-value pair in list of tuples.\n",
    "for i,j in d.items():\n",
    "    print(i,\" \",j)\n",
    "print(d.key())#it returns the key only.\n",
    "print(d.values())#it returns the value only.\n",
    "print(d.popitem())#it remove the last element\n",
    "print(\"after popitem:\",d)\n",
    "print(d.pop('a'))#it remove the given key\n",
    "print(\"after pop:\",d)\n",
    "print(d.get('c'))#it return the value of given\n",
    "d.clear()\n",
    "print(\"after clear:\",d)"
   ]
  }
 ],
 "metadata": {
  "kernelspec": {
   "display_name": "Python 3",
   "language": "python",
   "name": "python3"
  },
  "language_info": {
   "codemirror_mode": {
    "name": "ipython",
    "version": 3
   },
   "file_extension": ".py",
   "mimetype": "text/x-python",
   "name": "python",
   "nbconvert_exporter": "python",
   "pygments_lexer": "ipython3",
   "version": "3.11.3"
  },
  "orig_nbformat": 4
 },
 "nbformat": 4,
 "nbformat_minor": 2
}
