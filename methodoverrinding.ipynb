{
 "cells": [
  {
   "cell_type": "code",
   "execution_count": 7,
   "metadata": {},
   "outputs": [
    {
     "name": "stdout",
     "output_type": "stream",
     "text": [
      "perimeter: 62.800000000000004\n",
      "area: 314.0\n"
     ]
    }
   ],
   "source": [
    "class area:\n",
    "    def cricle(self,r):\n",
    "        self.r=r\n",
    "        print(\"area:\",(3.14*r**2))\n",
    "\n",
    "class peri (area):\n",
    "    def cricle(self,r):\n",
    "        self.r=r\n",
    "        print(\"perimeter:\",(3.14*r*2))\n",
    "        super().cricle(r)\n",
    "p=peri()\n",
    "p.cricle(10)\n"
   ]
  }
 ],
 "metadata": {
  "kernelspec": {
   "display_name": "Python 3",
   "language": "python",
   "name": "python3"
  },
  "language_info": {
   "codemirror_mode": {
    "name": "ipython",
    "version": 3
   },
   "file_extension": ".py",
   "mimetype": "text/x-python",
   "name": "python",
   "nbconvert_exporter": "python",
   "pygments_lexer": "ipython3",
   "version": "3.11.3"
  },
  "orig_nbformat": 4
 },
 "nbformat": 4,
 "nbformat_minor": 2
}
